{
 "cells": [
  {
   "cell_type": "code",
   "execution_count": 1,
   "metadata": {},
   "outputs": [],
   "source": [
    "import pickle\n",
    "import praw\n",
    "#from utils import *\n",
    "import pandas as pd\n",
    "import pytz\n",
    "from collections import deque\n",
    "#import pymongo\n",
    "from vaderSentiment.vaderSentiment import SentimentIntensityAnalyzer\n",
    "from datetime import datetime\n",
    "import os\n",
    "import pandas as pd\n",
    "import numpy as np\n",
    "import nltk"
   ]
  },
  {
   "cell_type": "code",
   "execution_count": 2,
   "metadata": {},
   "outputs": [],
   "source": [
    "subreddit_channel = 'politics'\n",
    "\n",
    "\n",
    "fetch_creds = pd.read_excel('/Users/katamezo/Documents/Columbia_University /spring_2022/natural_language_processing/hw4/creds.xlsx')\n",
    "\n",
    "reddit = praw.Reddit(\n",
    "     client_id=fetch_creds.cliend_id[0],\n",
    "     client_secret=fetch_creds.client_secret[0],\n",
    "     user_agent=\"testscript by u/fakebot3\",\n",
    "     username=fetch_creds.username[0],\n",
    "     password=fetch_creds.password[0],\n",
    "     check_for_async=False\n",
    " )"
   ]
  },
  {
   "cell_type": "code",
   "execution_count": 3,
   "metadata": {
    "scrolled": false
   },
   "outputs": [],
   "source": [
    "#fetch_creds.head()"
   ]
  },
  {
   "cell_type": "code",
   "execution_count": 4,
   "metadata": {},
   "outputs": [
    {
     "name": "stderr",
     "output_type": "stream",
     "text": [
      "/Users/katamezo/opt/anaconda3/lib/python3.8/site-packages/sklearn/base.py:310: UserWarning: Trying to unpickle estimator PCA from version 0.24.1 when using version 0.24.2. This might lead to breaking code or invalid results. Use at your own risk.\n",
      "  warnings.warn(\n",
      "/Users/katamezo/opt/anaconda3/lib/python3.8/site-packages/sklearn/base.py:310: UserWarning: Trying to unpickle estimator CountVectorizer from version 0.24.1 when using version 0.24.2. This might lead to breaking code or invalid results. Use at your own risk.\n",
      "  warnings.warn(\n"
     ]
    }
   ],
   "source": [
    "pca_file = open(\"/Users/katamezo/Documents/Columbia_University /spring_2022/natural_language_processing/hw4/pca.pkl\",'rb')\n",
    "pca = pickle.load(pca_file)\n",
    "\n",
    "my_model=pd.read_pickle('/Users/katamezo/Documents/Columbia_University /spring_2022/natural_language_processing/hw4/my_model.pkl')\n",
    "#pca = pd.read_pickle('/Users/katamezo/Documents/Columbia_University /spring_2022/natural_language_processing/hw4/pca.pkl')\n",
    "#vectorizer = pd.read_pickle('/Users/katamezo/Documents/Columbia_University /spring_2022/natural_language_processing/hw4/vectorizer.pkl')\n",
    "\n",
    "vec_file=open('/Users/katamezo/Documents/Columbia_University /spring_2022/natural_language_processing/hw4/vectorizer.pkl', 'rb')\n",
    "vectorizer= pickle.load(vec_file)"
   ]
  },
  {
   "cell_type": "code",
   "execution_count": 5,
   "metadata": {},
   "outputs": [],
   "source": [
    "def conv_time(var):\n",
    "    tmp_df = pd.DataFrame()\n",
    "    tmp_df = tmp_df.append(\n",
    "        {'created_at': var},ignore_index=True)\n",
    "    tmp_df.created_at = pd.to_datetime(\n",
    "        tmp_df.created_at, unit='s').dt.tz_localize(\n",
    "            'utc').dt.tz_convert('US/Eastern') \n",
    "    return datetime.fromtimestamp(var).astimezone(pytz.utc)"
   ]
  },
  {
   "cell_type": "code",
   "execution_count": 6,
   "metadata": {},
   "outputs": [],
   "source": [
    "def word_counter(var):\n",
    "    tmp_wrd = var.keys()\n",
    "    if \"gme\" in list(tmp_wrd):\n",
    "        print (\"gme\")\n",
    "        for word in tmp_wrd:\n",
    "            tmp_cnt = var[word]\n",
    "            try:\n",
    "                the_word_freq_dict[word] = the_word_freq_dict[word] + tmp_cnt\n",
    "            except:\n",
    "                the_word_freq_dict[word] = tmp_cnt\n",
    "                pass\n",
    "    return 0\n",
    "\n",
    "def score_sentiment(var):\n",
    "    senti_score = round(\n",
    "            sentiment_score_var.polarity_scores(var)['compound'], 4)\n",
    "    var = var.lower()\n",
    "    if \"democrat\" in var:\n",
    "        the_sentiment_dict['democrat'].pop()\n",
    "        the_sentiment_dict['democrat'].appendleft(senti_score)\n",
    "    if \"republican\" in var:\n",
    "        the_sentiment_dict['republican'].pop()\n",
    "        the_sentiment_dict['republican'].appendleft(senti_score)    \n",
    "    return the_sentiment_dict\n",
    "\n",
    "def my_stem(var_in):\n",
    "    from nltk.stem.porter import PorterStemmer\n",
    "    my_stem = PorterStemmer()\n",
    "    tmp = [my_stem.stem(word) for word in var_in.split()]\n",
    "    tmp = ' '.join(tmp)\n",
    "    return tmp\n",
    "\n",
    "def my_stop_words(var_in):\n",
    "    from nltk.corpus import stopwords\n",
    "    sw = stopwords.words('english')\n",
    "    tmp = [word for word in var_in.split() if word not in sw]\n",
    "    tmp = ' '.join(tmp)\n",
    "    return tmp\n",
    "\n",
    "\n",
    "def clean_txt(txt_in):\n",
    "    import re\n",
    "    clean_str = re.sub(\"[^A-Za-z]+\", \" \", txt_in).strip().lower()\n",
    "    return clean_str"
   ]
  },
  {
   "cell_type": "code",
   "execution_count": 7,
   "metadata": {},
   "outputs": [],
   "source": [
    "def get_reddit_data(var_in):\n",
    "    import pandas as pd\n",
    "    tmp_dict = pd.DataFrame()\n",
    "    tmp_time = None\n",
    "    try:\n",
    "        tmp_dict = tmp_dict.append({\"created_at\": conv_time(\n",
    "                                        var_in.created_utc)},\n",
    "                                    ignore_index=True)\n",
    "        tmp_time = tmp_dict.created_at[0] \n",
    "    except:\n",
    "        print (\"ERROR\")\n",
    "        pass\n",
    "    \n",
    "    \n",
    "    tmp_dict = {'msg_id': str(var_in.id),\n",
    "                'author': str(var_in.author),\n",
    "                'body': var_in.body, 'datetime': tmp_time, \n",
    "                'clean' : my_stem(my_stop_words(clean_txt(var_in.body)))}\n",
    "\n",
    "    vector = vectorizer.transform([tmp_dict['clean']])\n",
    "    pca_value = pca.transform(vector.toarray())\n",
    "    predict = my_model.predict(pca_value)\n",
    "    tmp_dict['prediction'] = predict\n",
    "    tmp_dict[\"probability\"] = my_model.predict_proba(pca_value)\n",
    "    \n",
    "    return tmp_dict"
   ]
  },
  {
   "cell_type": "code",
   "execution_count": 8,
   "metadata": {
    "scrolled": true
   },
   "outputs": [
    {
     "data": {
      "text/plain": [
       "'i hate homework cneiu z'"
      ]
     },
     "execution_count": 8,
     "metadata": {},
     "output_type": "execute_result"
    }
   ],
   "source": [
    "text= \"I love this homeworks cneiu +!Z\"\n",
    "clean_txt(my_stem(my_stop_words(text)))"
   ]
  },
  {
   "cell_type": "code",
   "execution_count": 9,
   "metadata": {},
   "outputs": [
    {
     "name": "stdout",
     "output_type": "stream",
     "text": [
      "{'msg_id': 'i4mckoc', 'author': 'thatnameagain', 'body': 'I\\'m not saying either of those things. I\\'m saying that they should do it because its the right thing to do but should not expect any of the goodwill to translate into a net gain in votes, like everyone on Reddit naively assumes it will. \\n\\nMy point is that \"If Biden forgives student loans democrats will get so many more voters\" takes are wrong.', 'datetime': Timestamp('2022-04-13 21:40:37+0000', tz='UTC'), 'clean': 'say either thing say right thing expect goodwil translat net gain vote like everyon reddit naiv assum point biden forgiv student loan democrat get mani voter take wrong', 'prediction': array(['democratic_policies'], dtype=object), 'probability': array([[0.57, 0.43]])}\n",
      "{'msg_id': 'i4mckua', 'author': 'p6one6', 'body': \"Not saying that it's right, but I have more belief in the US to deal with it on our own with our values and our voting than to allow an international bureaucracy that is more likely to be corrupt and have politically motivated goals in mind.\\n\\nI don't need Russia or China judging some American for an accidental death while their countries have citizens raping, killing, and enslaving people.  The US actually tries to stick to their word and their values, though not perfect.  Many other countries are not the same and empowering those countries increases unnecessary risk for the US.\", 'datetime': Timestamp('2022-04-13 21:40:39+0000', tz='UTC'), 'clean': 'say right belief us deal valu vote allow intern bureaucraci like corrupt polit motiv goal mind need russia china judg american accident death countri citizen rape kill enslav peopl us actual tri stick word valu though perfect mani countri empow countri increas unnecessari risk us', 'prediction': array(['republican_policies'], dtype=object), 'probability': array([[0.3, 0.7]])}\n",
      "{'msg_id': 'i4mcl92', 'author': 'LuvNMuny', 'body': 'The US has committed genocide, so has the UK, France, Japan, China, Brazil, Australia, Nigeria, Canada, etc. \\n\\nThat fact doesn\\'t mean that those countries can\\'t say, \"Hey, that\\'s genocide.\" It\\'s not hypocrisy. Countries aren\\'t people.', 'datetime': Timestamp('2022-04-13 21:40:43+0000', tz='UTC'), 'clean': 'us commit genocid uk franc japan china brazil australia nigeria canada etc fact mean countri say hey genocid hypocrisi countri peopl', 'prediction': array(['republican_policies'], dtype=object), 'probability': array([[0.39, 0.61]])}\n",
      "{'msg_id': 'i4mclbg', 'author': 'Boknowscos', 'body': 'Lmao dude is right though. They want cheep labor for jobs no one else wants but then they do away with work programs that would bring workers in for the season then ship them home when the season was done. It was a great program that worked for everyone and the right wing shut it down. So now there is a huge market for illegal immigrants to do the work.', 'datetime': Timestamp('2022-04-13 21:40:44+0000', tz='UTC'), 'clean': 'lmao dude right though want cheep labor job one els want away work program would bring worker season ship home season done great program work everyon right wing shut huge market illeg immigr work', 'prediction': array(['republican_policies'], dtype=object), 'probability': array([[0.44, 0.56]])}\n",
      "{'msg_id': 'i4mclkj', 'author': 'janxus', 'body': 'So it’s a whole bunch of old horny swingers that love their country so much they gotta vote twice.', 'datetime': Timestamp('2022-04-13 21:40:47+0000', tz='UTC'), 'clean': 'whole bunch old horni swinger love countri much gotta vote twice', 'prediction': array(['republican_policies'], dtype=object), 'probability': array([[0.49, 0.51]])}\n",
      "{'msg_id': 'i4mcllm', 'author': 'johnny5semperfi', 'body': 'They whored out our country this time they used a dollar amount', 'datetime': Timestamp('2022-04-13 21:40:47+0000', tz='UTC'), 'clean': 'whore countri time use dollar amount', 'prediction': array(['republican_policies'], dtype=object), 'probability': array([[0.38, 0.62]])}\n",
      "{'msg_id': 'i4mcluw', 'author': 'silence7', 'body': 'I expect both apartment building owners and employers to install chargers.', 'datetime': Timestamp('2022-04-13 21:40:50+0000', tz='UTC'), 'clean': 'expect apart build owner employ instal charger', 'prediction': array(['republican_policies'], dtype=object), 'probability': array([[0.35, 0.65]])}\n",
      "{'msg_id': 'i4mcm8w', 'author': 'MagicalGreenPenguin', 'body': 'If the Biden administration does not jump on forgiving student loan debt and legalizing cannabis they’re going to have zero steam going into the midterms.', 'datetime': Timestamp('2022-04-13 21:40:54+0000', tz='UTC'), 'clean': 'biden administr jump forgiv student loan debt legal cannabi go zero steam go midterm', 'prediction': array(['republican_policies'], dtype=object), 'probability': array([[0.39, 0.61]])}\n",
      "{'msg_id': 'i4mcm9g', 'author': 'jeffinRTP', 'body': 'Well I just talking about it or did they use the word grooming?', 'datetime': Timestamp('2022-04-13 21:40:54+0000', tz='UTC'), 'clean': 'well talk use word groom', 'prediction': array(['republican_policies'], dtype=object), 'probability': array([[0.38, 0.62]])}\n",
      "{'msg_id': 'i4mcmq5', 'author': 'ncvbn', 'body': '???\\n\\nNone of that removes the contradiction.', 'datetime': Timestamp('2022-04-13 21:40:59+0000', tz='UTC'), 'clean': 'none remov contradict', 'prediction': array(['republican_policies'], dtype=object), 'probability': array([[0.36, 0.64]])}\n",
      "{'msg_id': 'i4mcn6e', 'author': 'lasvegashal', 'body': 'My error you’re right but still. I know he is curmudgeonly but we need more Democrats with his fire', 'datetime': Timestamp('2022-04-13 21:41:04+0000', tz='UTC'), 'clean': 'error right still know curmudgeonli need democrat fire', 'prediction': array(['republican_policies'], dtype=object), 'probability': array([[0.4, 0.6]])}\n",
      "{'msg_id': 'i4mcn8v', 'author': 'Sharticus123', 'body': 'For the same reason cops prey on the poor and vulnerable. They’re easy pickings and don’t have any high level connections.', 'datetime': Timestamp('2022-04-13 21:41:05+0000', tz='UTC'), 'clean': 'reason cop prey poor vulner easi pick high level connect', 'prediction': array(['republican_policies'], dtype=object), 'probability': array([[0.41, 0.59]])}\n",
      "{'msg_id': 'i4mcnax', 'author': 'Clause-and-Reflect', 'body': 'They gotta get their audit quota in. Just like police.', 'datetime': Timestamp('2022-04-13 21:41:06+0000', tz='UTC'), 'clean': 'gotta get audit quota like polic', 'prediction': array(['republican_policies'], dtype=object), 'probability': array([[0.44, 0.56]])}\n",
      "{'msg_id': 'i4mcnmq', 'author': 'renoise', 'body': \"Wow when the comments come out this hard against someone, you know they're the real deal.\", 'datetime': Timestamp('2022-04-13 21:41:09+0000', tz='UTC'), 'clean': 'wow comment come hard someon know real deal', 'prediction': array(['republican_policies'], dtype=object), 'probability': array([[0.42, 0.58]])}\n",
      "{'msg_id': 'i4mcnr2', 'author': 'lakeghost', 'body': 'How? I’m not kidding, I honestly don’t know. I’ve worked at a wildlife park and the terrain in wilderness is impassable. Adding roads for Border Patrol makes it *easier* for people to cross. The whole Sonoran is wilderness. There’s desert, montane, and riparian areas you can’t built roads or walls. Much of the land is reservation land or privately owned. You’d need constant drone surveillance but that would require a huge amount of electricity and hiring many drone operators. Drones can easily be shot down, costing taxpayers. \\n\\nThe easiest solutions would be better pathways to legal immigration, cracking down on those big businesses who hire the pseudo-slave labor of immigrants, and humanitarian aid for the ongoing second Mayan collapse. Oh, and drug decriminalization like Portugal, how they stopped their border drug crime. The alternative is that people keep coming because US people keep buying or hiring.', 'datetime': Timestamp('2022-04-13 21:41:11+0000', tz='UTC'), 'clean': 'kid honestli know work wildlif park terrain wilder impass ad road border patrol make easier peopl cross whole sonoran wilder desert montan riparian area built road wall much land reserv land privat own need constant drone surveil would requir huge amount electr hire mani drone oper drone easili shot cost taxpay easiest solut would better pathway legal immigr crack big busi hire pseudo slave labor immigr humanitarian aid ongo second mayan collaps oh drug decrimin like portug stop border drug crime altern peopl keep come us peopl keep buy hire', 'prediction': array(['republican_policies'], dtype=object), 'probability': array([[0.4075, 0.5925]])}\n",
      "{'msg_id': 'i4mcnx1', 'author': 'egregiousRac', 'body': 'I have been writing all of the documentation for a system we use. I intentionally cycle between all the terms for hitting buttons.', 'datetime': Timestamp('2022-04-13 21:41:12+0000', tz='UTC'), 'clean': 'write document system use intent cycl term hit button', 'prediction': array(['republican_policies'], dtype=object), 'probability': array([[0.44, 0.56]])}\n",
      "{'msg_id': 'i4mcnyx', 'author': 'whyneedaname77', 'body': 'The country never fully shut down.  Hell not every state even did a stay at home order.   And what part of the country was shut down for 2 years?  \\n\\nAlso when did just a flu cause a million deaths in 2 years?', 'datetime': Timestamp('2022-04-13 21:41:13+0000', tz='UTC'), 'clean': 'countri never fulli shut hell everi state even stay home order part countri shut year also flu caus million death year', 'prediction': array(['republican_policies'], dtype=object), 'probability': array([[0.45, 0.55]])}\n"
     ]
    },
    {
     "name": "stdout",
     "output_type": "stream",
     "text": [
      "{'msg_id': 'i4mcobk', 'author': 'zeptillian', 'body': 'This is the party that literally campaigns for child grooming pedophiles. Majorly Toadie Gangrene is spreading these lies after literally just finishing up her tour with Matt Gaetz who is currently under federal investigation for child sex trafficking. \\n\\nHow dumb do you have to be to get outraged at the BS claimed by the fugly troll while completely ignoring her association and support of a literal child sex trafficker?', 'datetime': Timestamp('2022-04-13 21:41:17+0000', tz='UTC'), 'clean': 'parti liter campaign child groom pedophil majorli toadi gangren spread lie liter finish tour matt gaetz current feder investig child sex traffick dumb get outrag bs claim fugli troll complet ignor associ support liter child sex traffick', 'prediction': array(['republican_policies'], dtype=object), 'probability': array([[0.43, 0.57]])}\n",
      "{'msg_id': 'i4mcoh5', 'author': 'RhymeSpitter3000', 'body': 'If someone determines that they want to talk to their eight year old about that, that is fine. We don’t need a TV character or a cartoon character having conversations on our behalf. That’s the fucking problem.', 'datetime': Timestamp('2022-04-13 21:41:19+0000', tz='UTC'), 'clean': 'someon determin want talk eight year old fine need tv charact cartoon charact convers behalf fuck problem', 'prediction': array(['republican_policies'], dtype=object), 'probability': array([[0.44, 0.56]])}\n",
      "{'msg_id': 'i4mcp72', 'author': 'silasoulman', 'body': 'You promise not to move the football this time for real Lucy?', 'datetime': Timestamp('2022-04-13 21:41:27+0000', tz='UTC'), 'clean': 'promis move footbal time real luci', 'prediction': array(['republican_policies'], dtype=object), 'probability': array([[0.42, 0.58]])}\n",
      "{'msg_id': 'i4mcp5z', 'author': 'dew22', 'body': 'Voters have short memories, he’ll do it in October just in time for the midterms', 'datetime': Timestamp('2022-04-13 21:41:27+0000', tz='UTC'), 'clean': 'voter short memori octob time midterm', 'prediction': array(['democratic_policies'], dtype=object), 'probability': array([[0.54, 0.46]])}\n",
      "{'msg_id': 'i4mcpgg', 'author': 'bonniesue1948', 'body': 'Tax preparer here.  The IRS Taxpayer Assistance Centers should be doing some of this, but has been impossible for most people to access.  Too far away and can’t through on the phone to make an appointment.  Obviously they won’t defend you in an audit, but they should be there to help with installment agreements, take in documents to confirm income, Dependents, etc', 'datetime': Timestamp('2022-04-13 21:41:30+0000', tz='UTC'), 'clean': 'tax prepar ir taxpay assist center imposs peopl access far away phone make appoint obvious defend audit help instal agreement take document confirm incom depend etc', 'prediction': array(['republican_policies'], dtype=object), 'probability': array([[0.33, 0.67]])}\n",
      "{'msg_id': 'i4mcpy3', 'author': '2coolfordigg2', 'body': \"need to rid of these old farts that don't understand computers and the internet.\", 'datetime': Timestamp('2022-04-13 21:41:35+0000', tz='UTC'), 'clean': 'need rid old fart understand comput internet', 'prediction': array(['republican_policies'], dtype=object), 'probability': array([[0.41, 0.59]])}\n",
      "{'msg_id': 'i4mcq07', 'author': 'DilbertHigh', 'body': \"My point isn't about what voters should do. It is about what the candidates and current politicians should do. They need to stop blaming voters when they don't get enough votes and look inward at why they failed.\", 'datetime': Timestamp('2022-04-13 21:41:36+0000', tz='UTC'), 'clean': 'point voter candid current politician need stop blame voter get enough vote look inward fail', 'prediction': array(['democratic_policies'], dtype=object), 'probability': array([[0.64, 0.36]])}\n",
      "{'msg_id': 'i4mcq3a', 'author': 'Mysterious-Pair-1385', 'body': 'This woman would be a manager at a Sizzler 9 out of 10 timelines.', 'datetime': Timestamp('2022-04-13 21:41:37+0000', tz='UTC'), 'clean': 'woman would manag sizzler timelin', 'prediction': array(['republican_policies'], dtype=object), 'probability': array([[0.42, 0.58]])}\n",
      "{'msg_id': 'i4mcq79', 'author': 'LuvNMuny', 'body': 'Because Russia is trying to destroy a country and nation right now. Kinda lends some urgency to the situation.', 'datetime': Timestamp('2022-04-13 21:41:38+0000', tz='UTC'), 'clean': 'russia tri destroy countri nation right kinda lend urgenc situat', 'prediction': array(['republican_policies'], dtype=object), 'probability': array([[0.34, 0.66]])}\n",
      "{'msg_id': 'i4mcq9z', 'author': 'sweazeycool', 'body': 'Just compare the amount of money spent on the 2008 election with the amount spent 4 years later in 2012.', 'datetime': Timestamp('2022-04-13 21:41:39+0000', tz='UTC'), 'clean': 'compar amount money spent elect amount spent year later', 'prediction': array(['republican_policies'], dtype=object), 'probability': array([[0.44, 0.56]])}\n",
      "{'msg_id': 'i4mcqbf', 'author': 'ThomasFookinShelby1', 'body': 'So I do know what whataboutism is? Thank god, you had me worried.', 'datetime': Timestamp('2022-04-13 21:41:39+0000', tz='UTC'), 'clean': 'know whatabout thank god worri', 'prediction': array(['republican_policies'], dtype=object), 'probability': array([[0.37, 0.63]])}\n",
      "{'msg_id': 'i4mcqbw', 'author': 'uberdog911', 'body': 'But the poor are the low hanging fruit! Add to that the fact that it’s the wealthy who write the tax laws and viola! The perfect recipe for generational greed.', 'datetime': Timestamp('2022-04-13 21:41:39+0000', tz='UTC'), 'clean': 'poor low hang fruit add fact wealthi write tax law viola perfect recip gener greed', 'prediction': array(['republican_policies'], dtype=object), 'probability': array([[0.47, 0.53]])}\n",
      "{'msg_id': 'i4mcqhf', 'author': 'SingleMaltShooter', 'body': 'FYI this is the same thing we do with the thermostat in a restaurant when people complain it’s too hot or too cold.', 'datetime': Timestamp('2022-04-13 21:41:41+0000', tz='UTC'), 'clean': 'fyi thing thermostat restaur peopl complain hot cold', 'prediction': array(['republican_policies'], dtype=object), 'probability': array([[0.32, 0.68]])}\n",
      "{'msg_id': 'i4mcqpr', 'author': 'daklee98', 'body': \"Damn, you went through my whole profile, and that's the attack you come up with? It amazes me that you turn a blind eye to your own people murdering innocents across the globe\", 'datetime': Timestamp('2022-04-13 21:41:44+0000', tz='UTC'), 'clean': 'damn went whole profil attack come amaz turn blind eye peopl murder innoc across globe', 'prediction': array(['republican_policies'], dtype=object), 'probability': array([[0.43, 0.57]])}\n",
      "{'msg_id': 'i4mcr6y', 'author': 'Prairie_drifter', 'body': \"I'm sure Abbott and his GOPer buddies will step in to correct this bit of progress soon enough.\", 'datetime': Timestamp('2022-04-13 21:41:49+0000', tz='UTC'), 'clean': 'sure abbott goper buddi step correct bit progress soon enough', 'prediction': array(['republican_policies'], dtype=object), 'probability': array([[0.32, 0.68]])}\n",
      "{'msg_id': 'i4mcr79', 'author': 'deltr0nzero', 'body': 'Would you like somebody else to take over that role?', 'datetime': Timestamp('2022-04-13 21:41:49+0000', tz='UTC'), 'clean': 'would like somebodi els take role', 'prediction': array(['republican_policies'], dtype=object), 'probability': array([[0.45, 0.55]])}\n",
      "{'msg_id': 'i4mcsfa', 'author': 'Jaded_Prompt_15', 'body': \"> I don’t really think you’d be content w him paying like 0.03% in tax\\n\\nI don't think anyone would...\", 'datetime': Timestamp('2022-04-13 21:42:02+0000', tz='UTC'), 'clean': 'realli think content w pay like tax think anyon would', 'prediction': array(['republican_policies'], dtype=object), 'probability': array([[0.42, 0.58]])}\n",
      "{'msg_id': 'i4mcsk0', 'author': 'ArcticRedwood', 'body': 'Where? Most families who live in apartments only get one parking spot.', 'datetime': Timestamp('2022-04-13 21:42:04+0000', tz='UTC'), 'clean': 'famili live apart get one park spot', 'prediction': array(['republican_policies'], dtype=object), 'probability': array([[0.44, 0.56]])}\n",
      "{'msg_id': 'i4mcslp', 'author': 'Oye_Beltalowda', 'body': \"That's not how burden of proof works.\", 'datetime': Timestamp('2022-04-13 21:42:04+0000', tz='UTC'), 'clean': 'burden proof work', 'prediction': array(['republican_policies'], dtype=object), 'probability': array([[0.43, 0.57]])}\n",
      "{'msg_id': 'i4mcssp', 'author': 'MParty45', 'body': 'Because we can’t afford lawyers to bend the rules like the billionaires do.', 'datetime': Timestamp('2022-04-13 21:42:06+0000', tz='UTC'), 'clean': 'afford lawyer bend rule like billionair', 'prediction': array(['republican_policies'], dtype=object), 'probability': array([[0.41, 0.59]])}\n"
     ]
    },
    {
     "name": "stdout",
     "output_type": "stream",
     "text": [
      "{'msg_id': 'i4mcstg', 'author': 'MetalGramps', 'body': 'It also establishes an association with the accused and pedophilia that pesists in the minds of a lot of voters even of it is debunked.  People will hear their name and remember the term \"child molester.\"  The GOP knows this and hos little reason not to make baseless accusations.', 'datetime': Timestamp('2022-04-13 21:42:06+0000', tz='UTC'), 'clean': 'also establish associ accus pedophilia pesist mind lot voter even debunk peopl hear name rememb term child molest gop know ho littl reason make baseless accus', 'prediction': array(['democratic_policies'], dtype=object), 'probability': array([[0.51, 0.49]])}\n",
      "{'msg_id': 'i4mct2f', 'author': 'orxngepeaches', 'body': \"But just a few yrs ago they were all screaming that grooming wasn't real when talking about the underage bride laws -_-\", 'datetime': Timestamp('2022-04-13 21:42:09+0000', tz='UTC'), 'clean': 'yr ago scream groom real talk underag bride law', 'prediction': array(['republican_policies'], dtype=object), 'probability': array([[0.42, 0.58]])}\n",
      "{'msg_id': 'i4mctf4', 'author': 'ratican_city', 'body': \"Your comment gives a linear sequence of events, and I'm showing you the part that concerns you.\", 'datetime': Timestamp('2022-04-13 21:42:13+0000', tz='UTC'), 'clean': 'comment give linear sequenc event show part concern', 'prediction': array(['republican_policies'], dtype=object), 'probability': array([[0.31, 0.69]])}\n",
      "{'msg_id': 'i4mctp8', 'author': 'Neueregel1', 'body': 'I support this, however it’s not going to happen.  Sadly we are a country who only talks about law and order and never takes responsibility for our actions!', 'datetime': Timestamp('2022-04-13 21:42:16+0000', tz='UTC'), 'clean': 'support howev go happen sadli countri talk law order never take respons action', 'prediction': array(['republican_policies'], dtype=object), 'probability': array([[0.36, 0.64]])}\n",
      "{'msg_id': 'i4mctzi', 'author': 'LuvNMuny', 'body': 'Andrew Jackson.', 'datetime': Timestamp('2022-04-13 21:42:19+0000', tz='UTC'), 'clean': 'andrew jackson', 'prediction': array(['republican_policies'], dtype=object), 'probability': array([[0.42, 0.58]])}\n",
      "{'msg_id': 'i4mcun5', 'author': 'Not_on_a_log', 'body': 'r/quityourbullshit', 'datetime': Timestamp('2022-04-13 21:42:27+0000', tz='UTC'), 'clean': 'r quityourbullshit', 'prediction': array(['republican_policies'], dtype=object), 'probability': array([[0.31, 0.69]])}\n",
      "{'msg_id': 'i4mcuti', 'author': 'Sparroew', 'body': \"Well then the highest court in the land has interpreted the Second Amendment as an individual right unconnected with service in a militia. The first example of why we shouldn't listen to them is moot because the decision you refer to was over a hundred years ago and has since been overturned and the other example is an opinion with no supporting evidence.\", 'datetime': Timestamp('2022-04-13 21:42:28+0000', tz='UTC'), 'clean': 'well highest court land interpret second amend individu right unconnect servic militia first exampl listen moot decis refer hundr year ago sinc overturn exampl opinion support evid', 'prediction': array(['republican_policies'], dtype=object), 'probability': array([[0.41, 0.59]])}\n",
      "{'msg_id': 'i4mcvjp', 'author': 'iWishiCouldDoMore', 'body': 'I thought it was pretty common knowledge [it was happening](https://www.cnn.com/2021/11/17/politics/desantis-florida-republicans-routine-migrant-flights-immigration/index.html), not as nefarious as it sounds on the surface, however DeSantis\\' office contends they were supposed to be notified specifics as to when/where the flights were supposed to arrive and never were.\\n\\nIt started to become a \"big\" story when [body cam footage](https://fox17.com/news/nation-world/leaked-video-shows-federal-contractors-secretly-flying-migrants-to-new-york-report-says) showed up with this happening in NY as well.', 'datetime': Timestamp('2022-04-13 21:42:36+0000', tz='UTC'), 'clean': 'thought pretti common knowledg happen http www cnn com polit desanti florida republican routin migrant flight immigr index html nefari sound surfac howev desanti offic contend suppos notifi specif flight suppos arriv never start becom big stori bodi cam footag http fox com news nation world leak video show feder contractor secretli fli migrant new york report say show happen ny well', 'prediction': array(['republican_policies'], dtype=object), 'probability': array([[0.33, 0.67]])}\n",
      "{'msg_id': 'i4mcvll', 'author': 'Neil_Fallons_Ghost', 'body': 'There is plenty of work for laborers around here in DC.', 'datetime': Timestamp('2022-04-13 21:42:37+0000', tz='UTC'), 'clean': 'plenti work labor around dc', 'prediction': array(['republican_policies'], dtype=object), 'probability': array([[0.4, 0.6]])}\n",
      "{'msg_id': 'i4mcvoa', 'author': 'Boknowscos', 'body': 'Nope', 'datetime': Timestamp('2022-04-13 21:42:38+0000', tz='UTC'), 'clean': 'nope', 'prediction': array(['republican_policies'], dtype=object), 'probability': array([[0.31, 0.69]])}\n",
      "{'msg_id': 'i4mcvz4', 'author': 'Karlige', 'body': 'Not really imo, I think in this particular situation, it’s a misnomer used to rile up conservatives.', 'datetime': Timestamp('2022-04-13 21:42:41+0000', tz='UTC'), 'clean': 'realli imo think particular situat misnom use rile conserv', 'prediction': array(['republican_policies'], dtype=object), 'probability': array([[0.29, 0.71]])}\n",
      "{'msg_id': 'i4mcw37', 'author': 'skkITer', 'body': 'There is no excuse for sitting out elections.\\n  \\nAnyone who sits out in November because they aren’t “excited” by Joe Biden or *dem leadership* is selfish, short sighted, and frankly despicable. Full stop.', 'datetime': Timestamp('2022-04-13 21:42:42+0000', tz='UTC'), 'clean': 'excus sit elect anyon sit novemb excit joe biden dem leadership selfish short sight frankli despic full stop', 'prediction': array(['republican_policies'], dtype=object), 'probability': array([[0.45, 0.55]])}\n",
      "{'msg_id': 'i4mcw3q', 'author': 'Montego1254', 'body': 'So it should be known that he and The Saudis had to be negotiating the deal for longer then 6 months, which would mean he was Employed At The White House which would make the whole transaction ILLEGAL!!!  Dam it, so Sick Of no Consequences for Entitled White Men!!!', 'datetime': Timestamp('2022-04-13 21:42:42+0000', tz='UTC'), 'clean': 'known saudi negoti deal longer month would mean employ white hous would make whole transact illeg dam sick consequ entitl white men', 'prediction': array(['republican_policies'], dtype=object), 'probability': array([[0.43, 0.57]])}\n",
      "{'msg_id': 'i4mcwb4', 'author': 'Fairytaledollpattern', 'body': 'Which makes sense.\\n\\nWe had hundreds of hours of training, written by many writers.\\n\\nThey were a team of about 20-30 writers, so in order to keep things ”uniform\" they had a document to how to say \"click a button\"', 'datetime': Timestamp('2022-04-13 21:42:45+0000', tz='UTC'), 'clean': 'make sens hundr hour train written mani writer team writer order keep thing uniform document say click button', 'prediction': array(['republican_policies'], dtype=object), 'probability': array([[0.45, 0.55]])}\n",
      "{'msg_id': 'i4mcwwr', 'author': 'IronSavage3', 'body': 'Probably waiting until like a month before the midterms.', 'datetime': Timestamp('2022-04-13 21:42:51+0000', tz='UTC'), 'clean': 'probabl wait like month midterm', 'prediction': array(['republican_policies'], dtype=object), 'probability': array([[0.45, 0.55]])}\n",
      "{'msg_id': 'i4mcxk6', 'author': 'Gravelroad__', 'body': 'Just to clarify the headline, the Texas law is what’s creating major slowdowns and issues at the border. Texas is making truck traffic go through a state inspection after the federal one, adding hours or even more than a day to some transit', 'datetime': Timestamp('2022-04-13 21:42:59+0000', tz='UTC'), 'clean': 'clarifi headlin texa law creat major slowdown issu border texa make truck traffic go state inspect feder one ad hour even day transit', 'prediction': array(['democratic_policies'], dtype=object), 'probability': array([[0.5, 0.5]])}\n",
      "{'msg_id': 'i4mcy5a', 'author': 'kassius79', 'body': 'Republicans to their base: “have you heard about that imaginary basement inside a pizzeria? Go check that out and just ignore everything we’re doing over here.”', 'datetime': Timestamp('2022-04-13 21:43:05+0000', tz='UTC'), 'clean': 'republican base heard imaginari basement insid pizzeria go check ignor everyth', 'prediction': array(['republican_policies'], dtype=object), 'probability': array([[0.35, 0.65]])}\n"
     ]
    },
    {
     "name": "stdout",
     "output_type": "stream",
     "text": [
      "{'msg_id': 'i4mcy6f', 'author': 'mopsockets', 'body': 'Pregnant people can commit suicide to get out of this situation. More and more people will start choosing this. And suicide is contagious. Buckle up.', 'datetime': Timestamp('2022-04-13 21:43:06+0000', tz='UTC'), 'clean': 'pregnant peopl commit suicid get situat peopl start choos suicid contagi buckl', 'prediction': array(['republican_policies'], dtype=object), 'probability': array([[0.3, 0.7]])}\n",
      "{'msg_id': 'i4mcyks', 'author': 'centran', 'body': 'It gets a little more complicated then that answer but works off what you said. Because it\\'s hard to go after the wealthy Trump/GOP appointed and directed the IRS to go after \"more people\". (Which means poorer people). This was too done to clog up and waste IRS time/resources making it harder to properly audit the rich.', 'datetime': Timestamp('2022-04-13 21:43:10+0000', tz='UTC'), 'clean': 'get littl complic answer work said hard go wealthi trump gop appoint direct ir go peopl mean poorer peopl done clog wast ir time resourc make harder properli audit rich', 'prediction': array(['republican_policies'], dtype=object), 'probability': array([[0.29, 0.71]])}\n"
     ]
    },
    {
     "ename": "KeyboardInterrupt",
     "evalue": "",
     "output_type": "error",
     "traceback": [
      "\u001b[0;31m---------------------------------------------------------------------------\u001b[0m",
      "\u001b[0;31mKeyboardInterrupt\u001b[0m                         Traceback (most recent call last)",
      "\u001b[0;32m<ipython-input-9-43285dde8b5a>\u001b[0m in \u001b[0;36m<module>\u001b[0;34m\u001b[0m\n\u001b[1;32m      1\u001b[0m \u001b[0;32mfor\u001b[0m \u001b[0mcomment\u001b[0m \u001b[0;32min\u001b[0m \u001b[0mreddit\u001b[0m\u001b[0;34m.\u001b[0m\u001b[0msubreddit\u001b[0m\u001b[0;34m(\u001b[0m\u001b[0msubreddit_channel\u001b[0m\u001b[0;34m)\u001b[0m\u001b[0;34m.\u001b[0m\u001b[0mstream\u001b[0m\u001b[0;34m.\u001b[0m\u001b[0mcomments\u001b[0m\u001b[0;34m(\u001b[0m\u001b[0;34m)\u001b[0m\u001b[0;34m:\u001b[0m\u001b[0;34m\u001b[0m\u001b[0;34m\u001b[0m\u001b[0m\n\u001b[0;32m----> 2\u001b[0;31m     \u001b[0mtmp_df\u001b[0m \u001b[0;34m=\u001b[0m \u001b[0mget_reddit_data\u001b[0m\u001b[0;34m(\u001b[0m\u001b[0mcomment\u001b[0m\u001b[0;34m)\u001b[0m\u001b[0;34m\u001b[0m\u001b[0;34m\u001b[0m\u001b[0m\n\u001b[0m\u001b[1;32m      3\u001b[0m     \u001b[0mprint\u001b[0m\u001b[0;34m(\u001b[0m\u001b[0mtmp_df\u001b[0m\u001b[0;34m)\u001b[0m\u001b[0;34m\u001b[0m\u001b[0;34m\u001b[0m\u001b[0m\n\u001b[1;32m      4\u001b[0m \u001b[0;34m\u001b[0m\u001b[0m\n\u001b[1;32m      5\u001b[0m \u001b[0;34m\u001b[0m\u001b[0m\n",
      "\u001b[0;32m<ipython-input-7-f333932b0d32>\u001b[0m in \u001b[0;36mget_reddit_data\u001b[0;34m(var_in)\u001b[0m\n\u001b[1;32m     22\u001b[0m     \u001b[0mpredict\u001b[0m \u001b[0;34m=\u001b[0m \u001b[0mmy_model\u001b[0m\u001b[0;34m.\u001b[0m\u001b[0mpredict\u001b[0m\u001b[0;34m(\u001b[0m\u001b[0mpca_value\u001b[0m\u001b[0;34m)\u001b[0m\u001b[0;34m\u001b[0m\u001b[0;34m\u001b[0m\u001b[0m\n\u001b[1;32m     23\u001b[0m     \u001b[0mtmp_dict\u001b[0m\u001b[0;34m[\u001b[0m\u001b[0;34m'prediction'\u001b[0m\u001b[0;34m]\u001b[0m \u001b[0;34m=\u001b[0m \u001b[0mpredict\u001b[0m\u001b[0;34m\u001b[0m\u001b[0;34m\u001b[0m\u001b[0m\n\u001b[0;32m---> 24\u001b[0;31m     \u001b[0mtmp_dict\u001b[0m\u001b[0;34m[\u001b[0m\u001b[0;34m\"probability\"\u001b[0m\u001b[0;34m]\u001b[0m \u001b[0;34m=\u001b[0m \u001b[0mmy_model\u001b[0m\u001b[0;34m.\u001b[0m\u001b[0mpredict_proba\u001b[0m\u001b[0;34m(\u001b[0m\u001b[0mpca_value\u001b[0m\u001b[0;34m)\u001b[0m\u001b[0;34m\u001b[0m\u001b[0;34m\u001b[0m\u001b[0m\n\u001b[0m\u001b[1;32m     25\u001b[0m \u001b[0;34m\u001b[0m\u001b[0m\n\u001b[1;32m     26\u001b[0m     \u001b[0;32mreturn\u001b[0m \u001b[0mtmp_dict\u001b[0m\u001b[0;34m\u001b[0m\u001b[0;34m\u001b[0m\u001b[0m\n",
      "\u001b[0;32m~/opt/anaconda3/lib/python3.8/site-packages/sklearn/ensemble/_forest.py\u001b[0m in \u001b[0;36mpredict_proba\u001b[0;34m(self, X)\u001b[0m\n\u001b[1;32m    681\u001b[0m                      for j in np.atleast_1d(self.n_classes_)]\n\u001b[1;32m    682\u001b[0m         \u001b[0mlock\u001b[0m \u001b[0;34m=\u001b[0m \u001b[0mthreading\u001b[0m\u001b[0;34m.\u001b[0m\u001b[0mLock\u001b[0m\u001b[0;34m(\u001b[0m\u001b[0;34m)\u001b[0m\u001b[0;34m\u001b[0m\u001b[0;34m\u001b[0m\u001b[0m\n\u001b[0;32m--> 683\u001b[0;31m         Parallel(n_jobs=n_jobs, verbose=self.verbose,\n\u001b[0m\u001b[1;32m    684\u001b[0m                  \u001b[0;34m**\u001b[0m\u001b[0m_joblib_parallel_args\u001b[0m\u001b[0;34m(\u001b[0m\u001b[0mrequire\u001b[0m\u001b[0;34m=\u001b[0m\u001b[0;34m\"sharedmem\"\u001b[0m\u001b[0;34m)\u001b[0m\u001b[0;34m)\u001b[0m\u001b[0;34m(\u001b[0m\u001b[0;34m\u001b[0m\u001b[0;34m\u001b[0m\u001b[0m\n\u001b[1;32m    685\u001b[0m             delayed(_accumulate_prediction)(e.predict_proba, X, all_proba,\n",
      "\u001b[0;32m~/opt/anaconda3/lib/python3.8/site-packages/joblib/parallel.py\u001b[0m in \u001b[0;36m__call__\u001b[0;34m(self, iterable)\u001b[0m\n\u001b[1;32m   1049\u001b[0m                 \u001b[0mself\u001b[0m\u001b[0;34m.\u001b[0m\u001b[0m_iterating\u001b[0m \u001b[0;34m=\u001b[0m \u001b[0mself\u001b[0m\u001b[0;34m.\u001b[0m\u001b[0m_original_iterator\u001b[0m \u001b[0;32mis\u001b[0m \u001b[0;32mnot\u001b[0m \u001b[0;32mNone\u001b[0m\u001b[0;34m\u001b[0m\u001b[0;34m\u001b[0m\u001b[0m\n\u001b[1;32m   1050\u001b[0m \u001b[0;34m\u001b[0m\u001b[0m\n\u001b[0;32m-> 1051\u001b[0;31m             \u001b[0;32mwhile\u001b[0m \u001b[0mself\u001b[0m\u001b[0;34m.\u001b[0m\u001b[0mdispatch_one_batch\u001b[0m\u001b[0;34m(\u001b[0m\u001b[0miterator\u001b[0m\u001b[0;34m)\u001b[0m\u001b[0;34m:\u001b[0m\u001b[0;34m\u001b[0m\u001b[0;34m\u001b[0m\u001b[0m\n\u001b[0m\u001b[1;32m   1052\u001b[0m                 \u001b[0;32mpass\u001b[0m\u001b[0;34m\u001b[0m\u001b[0;34m\u001b[0m\u001b[0m\n\u001b[1;32m   1053\u001b[0m \u001b[0;34m\u001b[0m\u001b[0m\n",
      "\u001b[0;32m~/opt/anaconda3/lib/python3.8/site-packages/joblib/parallel.py\u001b[0m in \u001b[0;36mdispatch_one_batch\u001b[0;34m(self, iterator)\u001b[0m\n\u001b[1;32m    864\u001b[0m                 \u001b[0;32mreturn\u001b[0m \u001b[0;32mFalse\u001b[0m\u001b[0;34m\u001b[0m\u001b[0;34m\u001b[0m\u001b[0m\n\u001b[1;32m    865\u001b[0m             \u001b[0;32melse\u001b[0m\u001b[0;34m:\u001b[0m\u001b[0;34m\u001b[0m\u001b[0;34m\u001b[0m\u001b[0m\n\u001b[0;32m--> 866\u001b[0;31m                 \u001b[0mself\u001b[0m\u001b[0;34m.\u001b[0m\u001b[0m_dispatch\u001b[0m\u001b[0;34m(\u001b[0m\u001b[0mtasks\u001b[0m\u001b[0;34m)\u001b[0m\u001b[0;34m\u001b[0m\u001b[0;34m\u001b[0m\u001b[0m\n\u001b[0m\u001b[1;32m    867\u001b[0m                 \u001b[0;32mreturn\u001b[0m \u001b[0;32mTrue\u001b[0m\u001b[0;34m\u001b[0m\u001b[0;34m\u001b[0m\u001b[0m\n\u001b[1;32m    868\u001b[0m \u001b[0;34m\u001b[0m\u001b[0m\n",
      "\u001b[0;32m~/opt/anaconda3/lib/python3.8/site-packages/joblib/parallel.py\u001b[0m in \u001b[0;36m_dispatch\u001b[0;34m(self, batch)\u001b[0m\n\u001b[1;32m    782\u001b[0m         \u001b[0;32mwith\u001b[0m \u001b[0mself\u001b[0m\u001b[0;34m.\u001b[0m\u001b[0m_lock\u001b[0m\u001b[0;34m:\u001b[0m\u001b[0;34m\u001b[0m\u001b[0;34m\u001b[0m\u001b[0m\n\u001b[1;32m    783\u001b[0m             \u001b[0mjob_idx\u001b[0m \u001b[0;34m=\u001b[0m \u001b[0mlen\u001b[0m\u001b[0;34m(\u001b[0m\u001b[0mself\u001b[0m\u001b[0;34m.\u001b[0m\u001b[0m_jobs\u001b[0m\u001b[0;34m)\u001b[0m\u001b[0;34m\u001b[0m\u001b[0;34m\u001b[0m\u001b[0m\n\u001b[0;32m--> 784\u001b[0;31m             \u001b[0mjob\u001b[0m \u001b[0;34m=\u001b[0m \u001b[0mself\u001b[0m\u001b[0;34m.\u001b[0m\u001b[0m_backend\u001b[0m\u001b[0;34m.\u001b[0m\u001b[0mapply_async\u001b[0m\u001b[0;34m(\u001b[0m\u001b[0mbatch\u001b[0m\u001b[0;34m,\u001b[0m \u001b[0mcallback\u001b[0m\u001b[0;34m=\u001b[0m\u001b[0mcb\u001b[0m\u001b[0;34m)\u001b[0m\u001b[0;34m\u001b[0m\u001b[0;34m\u001b[0m\u001b[0m\n\u001b[0m\u001b[1;32m    785\u001b[0m             \u001b[0;31m# A job can complete so quickly than its callback is\u001b[0m\u001b[0;34m\u001b[0m\u001b[0;34m\u001b[0m\u001b[0;34m\u001b[0m\u001b[0m\n\u001b[1;32m    786\u001b[0m             \u001b[0;31m# called before we get here, causing self._jobs to\u001b[0m\u001b[0;34m\u001b[0m\u001b[0;34m\u001b[0m\u001b[0;34m\u001b[0m\u001b[0m\n",
      "\u001b[0;32m~/opt/anaconda3/lib/python3.8/site-packages/joblib/_parallel_backends.py\u001b[0m in \u001b[0;36mapply_async\u001b[0;34m(self, func, callback)\u001b[0m\n\u001b[1;32m    208\u001b[0m         \u001b[0mresult\u001b[0m \u001b[0;34m=\u001b[0m \u001b[0mImmediateResult\u001b[0m\u001b[0;34m(\u001b[0m\u001b[0mfunc\u001b[0m\u001b[0;34m)\u001b[0m\u001b[0;34m\u001b[0m\u001b[0;34m\u001b[0m\u001b[0m\n\u001b[1;32m    209\u001b[0m         \u001b[0;32mif\u001b[0m \u001b[0mcallback\u001b[0m\u001b[0;34m:\u001b[0m\u001b[0;34m\u001b[0m\u001b[0;34m\u001b[0m\u001b[0m\n\u001b[0;32m--> 210\u001b[0;31m             \u001b[0mcallback\u001b[0m\u001b[0;34m(\u001b[0m\u001b[0mresult\u001b[0m\u001b[0;34m)\u001b[0m\u001b[0;34m\u001b[0m\u001b[0;34m\u001b[0m\u001b[0m\n\u001b[0m\u001b[1;32m    211\u001b[0m         \u001b[0;32mreturn\u001b[0m \u001b[0mresult\u001b[0m\u001b[0;34m\u001b[0m\u001b[0;34m\u001b[0m\u001b[0m\n\u001b[1;32m    212\u001b[0m \u001b[0;34m\u001b[0m\u001b[0m\n",
      "\u001b[0;32m~/opt/anaconda3/lib/python3.8/site-packages/joblib/parallel.py\u001b[0m in \u001b[0;36m__call__\u001b[0;34m(self, out)\u001b[0m\n\u001b[1;32m    364\u001b[0m         \u001b[0;32mwith\u001b[0m \u001b[0mself\u001b[0m\u001b[0;34m.\u001b[0m\u001b[0mparallel\u001b[0m\u001b[0;34m.\u001b[0m\u001b[0m_lock\u001b[0m\u001b[0;34m:\u001b[0m\u001b[0;34m\u001b[0m\u001b[0;34m\u001b[0m\u001b[0m\n\u001b[1;32m    365\u001b[0m             \u001b[0;32mif\u001b[0m \u001b[0mself\u001b[0m\u001b[0;34m.\u001b[0m\u001b[0mparallel\u001b[0m\u001b[0;34m.\u001b[0m\u001b[0m_original_iterator\u001b[0m \u001b[0;32mis\u001b[0m \u001b[0;32mnot\u001b[0m \u001b[0;32mNone\u001b[0m\u001b[0;34m:\u001b[0m\u001b[0;34m\u001b[0m\u001b[0;34m\u001b[0m\u001b[0m\n\u001b[0;32m--> 366\u001b[0;31m                 \u001b[0mself\u001b[0m\u001b[0;34m.\u001b[0m\u001b[0mparallel\u001b[0m\u001b[0;34m.\u001b[0m\u001b[0mdispatch_next\u001b[0m\u001b[0;34m(\u001b[0m\u001b[0;34m)\u001b[0m\u001b[0;34m\u001b[0m\u001b[0;34m\u001b[0m\u001b[0m\n\u001b[0m\u001b[1;32m    367\u001b[0m \u001b[0;34m\u001b[0m\u001b[0m\n\u001b[1;32m    368\u001b[0m \u001b[0;34m\u001b[0m\u001b[0m\n",
      "\u001b[0;31mKeyboardInterrupt\u001b[0m: "
     ]
    }
   ],
   "source": [
    "for comment in reddit.subreddit(subreddit_channel).stream.comments():\n",
    "    tmp_df = get_reddit_data(comment)\n",
    "    print(tmp_df)\n",
    "    \n",
    "    "
   ]
  }
 ],
 "metadata": {
  "kernelspec": {
   "display_name": "Python 3",
   "language": "python",
   "name": "python3"
  },
  "language_info": {
   "codemirror_mode": {
    "name": "ipython",
    "version": 3
   },
   "file_extension": ".py",
   "mimetype": "text/x-python",
   "name": "python",
   "nbconvert_exporter": "python",
   "pygments_lexer": "ipython3",
   "version": "3.8.5"
  }
 },
 "nbformat": 4,
 "nbformat_minor": 4
}
